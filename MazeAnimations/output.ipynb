{
 "cells": [
  {
   "cell_type": "code",
   "execution_count": 1,
   "metadata": {},
   "outputs": [],
   "source": [
    "import sys\n",
    "import os\n",
    "\n",
    "sys.path.append(os.path.dirname(os.getcwd()))"
   ]
  },
  {
   "cell_type": "code",
   "execution_count": 2,
   "metadata": {},
   "outputs": [],
   "source": [
    "from MazeGenerationAlgorithms.AldousBroder import AldousBroderMaze\n",
    "from MazeGenerationAlgorithms.HuntAndKill import HuntAndKillMaze\n",
    "from MazeGenerationAlgorithms.LoopHuntAndKill import LoopHuntAndKillMaze\n",
    "from MazeGenerationAlgorithms.InitializedPrim import InitializedPrimMaze\n",
    "from MazeGenerationAlgorithms.DepthFirstPrim import DepthFirstPrimMaze\n",
    "from MazeGenerationAlgorithms.RandomizedKruskal import RandomizedKruskalMaze\n",
    "from MazeGenerationAlgorithms.Sidewinder import SidewinderMaze\n",
    "from MazeGenerationAlgorithms.StochasticPrim import StochasticPrimMaze\n",
    "from MazeGenerationAlgorithms.Wilson import WilsonMaze\n",
    "from MazeGenerationAlgorithms.RandomizedPrim import RandomizedPrimMaze\n",
    "from MazeGenerationAlgorithms.LoopPrim import LoopPrimMaze\n",
    "from MazeGenerationAlgorithms.DFS import DFSMaze\n",
    "from MazeGenerationAlgorithms.RecursiveBacktracker import RecursiveBacktrackerMaze"
   ]
  },
  {
   "cell_type": "code",
   "execution_count": 3,
   "metadata": {},
   "outputs": [],
   "source": [
    "width, height = 15, 15"
   ]
  },
  {
   "cell_type": "code",
   "execution_count": null,
   "metadata": {},
   "outputs": [],
   "source": [
    "RecursiveBacktrackerMaze(width, height).animate_maze(save=True)"
   ]
  },
  {
   "cell_type": "code",
   "execution_count": null,
   "metadata": {},
   "outputs": [],
   "source": [
    "LoopPrimMaze(width, height, loop_density = 0.2).animate_maze(save=True)"
   ]
  },
  {
   "cell_type": "code",
   "execution_count": null,
   "metadata": {},
   "outputs": [],
   "source": [
    "DFSMaze(width, height).animate_maze(save=True)"
   ]
  },
  {
   "cell_type": "code",
   "execution_count": null,
   "metadata": {},
   "outputs": [],
   "source": [
    "RandomizedPrimMaze(width, height).animate_maze(save = True)"
   ]
  },
  {
   "cell_type": "code",
   "execution_count": null,
   "metadata": {},
   "outputs": [],
   "source": [
    "AldousBroderMaze(width, height).animate_maze(save=True)"
   ]
  },
  {
   "cell_type": "code",
   "execution_count": null,
   "metadata": {},
   "outputs": [],
   "source": [
    "HuntAndKillMaze(width, height).animate_maze(save=True)"
   ]
  },
  {
   "cell_type": "code",
   "execution_count": null,
   "metadata": {},
   "outputs": [],
   "source": [
    "path = [(0,0), (0,1), (1,1), (1,2), (2,2), (2,3), (3,3), (3,4), (4,4), (4,5), (5,5), (5,6), \n",
    "        (6,6), (6,7), (7,7), (7,8), (8,8), (8,9), (9,9), (9,10), (10,10), (10,11), (11,11)]\n",
    "\n",
    "InitializedPrimMaze(width, height, path).animate_maze(save=True)"
   ]
  },
  {
   "cell_type": "code",
   "execution_count": null,
   "metadata": {},
   "outputs": [],
   "source": [
    "DepthFirstPrimMaze(width, height).animate_maze(save=True)"
   ]
  },
  {
   "cell_type": "code",
   "execution_count": null,
   "metadata": {},
   "outputs": [],
   "source": [
    "RandomizedKruskalMaze(width, height).animate_maze(save=True)"
   ]
  },
  {
   "cell_type": "code",
   "execution_count": null,
   "metadata": {},
   "outputs": [],
   "source": [
    "SidewinderMaze(width, height).animate_maze(save=True)"
   ]
  },
  {
   "cell_type": "code",
   "execution_count": null,
   "metadata": {},
   "outputs": [],
   "source": [
    "StochasticPrimMaze(width, height).animate_maze(save=True)"
   ]
  },
  {
   "cell_type": "code",
   "execution_count": null,
   "metadata": {},
   "outputs": [],
   "source": [
    "WilsonMaze(width, height).animate_maze(save=True)"
   ]
  },
  {
   "cell_type": "code",
   "execution_count": 16,
   "metadata": {},
   "outputs": [],
   "source": [
    "from MazeSolutionAlgorithms.AStar import AStarSolver\n",
    "from MazeSolutionAlgorithms.BreadthFirstSearch import BFSSolver\n",
    "from MazeSolutionAlgorithms.DepthFirstSearch import DFSSolver\n",
    "from MazeSolutionAlgorithms.HandOnWall import HandOnWallSolver\n",
    "from MazeSolutionAlgorithms.RandomWalk import RandomWalkSolver\n",
    "from MazeSolutionAlgorithms.HybridSearch import HybridBFSDFS"
   ]
  },
  {
   "cell_type": "code",
   "execution_count": 17,
   "metadata": {},
   "outputs": [],
   "source": [
    "m = RecursiveBacktrackerMaze(width, height)"
   ]
  },
  {
   "cell_type": "code",
   "execution_count": null,
   "metadata": {},
   "outputs": [],
   "source": [
    "AStarSolver(m).animate(save=True)"
   ]
  },
  {
   "cell_type": "code",
   "execution_count": null,
   "metadata": {},
   "outputs": [],
   "source": [
    "BFSSolver(m).animate(save=True)"
   ]
  },
  {
   "cell_type": "code",
   "execution_count": null,
   "metadata": {},
   "outputs": [],
   "source": [
    "DFSSolver(m).animate(save=True)"
   ]
  },
  {
   "cell_type": "code",
   "execution_count": null,
   "metadata": {},
   "outputs": [],
   "source": [
    "HandOnWallSolver(m).animate(save=True)"
   ]
  },
  {
   "cell_type": "code",
   "execution_count": null,
   "metadata": {},
   "outputs": [],
   "source": [
    "RandomWalkSolver(m).animate(save=True)"
   ]
  },
  {
   "cell_type": "code",
   "execution_count": null,
   "metadata": {},
   "outputs": [],
   "source": [
    "HybridBFSDFS(m).animate(save=True)"
   ]
  }
 ],
 "metadata": {
  "kernelspec": {
   "display_name": "Python 3",
   "language": "python",
   "name": "python3"
  },
  "language_info": {
   "codemirror_mode": {
    "name": "ipython",
    "version": 3
   },
   "file_extension": ".py",
   "mimetype": "text/x-python",
   "name": "python",
   "nbconvert_exporter": "python",
   "pygments_lexer": "ipython3",
   "version": "3.12.3"
  }
 },
 "nbformat": 4,
 "nbformat_minor": 2
}
